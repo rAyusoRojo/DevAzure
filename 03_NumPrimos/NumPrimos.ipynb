{
 "cells": [
  {
   "cell_type": "markdown",
   "metadata": {},
   "source": [
    "Programa para generar numeros primos\n",
    "Primero solicita el número a partir del cual se quiere empezar a generar los num. primos \n",
    "A continuación solicita cuantos núm. primos se quieren generar\n",
    "Por último, muestra por pantalla el listado de los mismos"
   ]
  },
  {
   "cell_type": "code",
   "execution_count": 27,
   "metadata": {},
   "outputs": [
    {
     "name": "stdout",
     "output_type": "stream",
     "text": [
      "Números primos hasta 99: [2, 3, 5, 7, 11, 13, 17, 19, 23, 29, 31, 37, 41, 43, 47, 53, 59, 61, 67, 71, 73, 79, 83, 89, 97]\n"
     ]
    }
   ],
   "source": [
    "def criba_eratostenes(n):\n",
    "    # Crea una lista para marcar si los números son primos (True) o no (False)\n",
    "    primos = [True] * (n + 1)\n",
    "    primos[0] = primos[1] = False  # 0 y 1 no son primos\n",
    "\n",
    "    # Marca los múltiplos de cada número primo como no primos\n",
    "    for i in range(2, int(n**0.5) + 1):\n",
    "        if primos[i]:  # Si el número es primo\n",
    "            for j in range(i * i, n + 1, i):  # Marca sus múltiplos como no primos\n",
    "                primos[j] = False\n",
    "\n",
    "    # Genera la lista de números primos\n",
    "    return [i for i, es_primo in enumerate(primos) if es_primo]\n",
    "\n",
    "hasta=0\n",
    "cuantos=0\n",
    "\n",
    "while (True):\n",
    "    hasta= int(input(\"Introduce el límite superior para calcular los números primos: \"))\n",
    "    if (isinstance(float(hasta), float) and int(hasta)>1):\n",
    "        break\n",
    "\n",
    "numInicio=int(hasta)\n",
    "\n",
    "numeros_primos = criba_eratostenes(numInicio)\n",
    "\n",
    "print(f\"Números primos hasta {hasta}: {numeros_primos}\")"
   ]
  },
  {
   "cell_type": "code",
   "execution_count": null,
   "metadata": {},
   "outputs": [],
   "source": []
  },
  {
   "cell_type": "code",
   "execution_count": null,
   "metadata": {},
   "outputs": [],
   "source": []
  }
 ],
 "metadata": {
  "kernelspec": {
   "display_name": "Python 3",
   "language": "python",
   "name": "python3"
  },
  "language_info": {
   "codemirror_mode": {
    "name": "ipython",
    "version": 3
   },
   "file_extension": ".py",
   "mimetype": "text/x-python",
   "name": "python",
   "nbconvert_exporter": "python",
   "pygments_lexer": "ipython3",
   "version": "3.12.3"
  }
 },
 "nbformat": 4,
 "nbformat_minor": 2
}
