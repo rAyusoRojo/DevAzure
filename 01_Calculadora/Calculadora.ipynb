{
 "cells": [
  {
   "cell_type": "code",
   "execution_count": 1,
   "metadata": {},
   "outputs": [
    {
     "name": "stdout",
     "output_type": "stream",
     "text": [
      " >>> CALCULADORA <<<\n",
      "Vamos a calcular (15) * (65.5)\n",
      "El resultado es 982.5\n",
      " >>> CALCULADORA <<<\n",
      "Estas han sido tus operaciones: [[1, '15', '65.5', '*', 982.5]]\n"
     ]
    },
    {
     "data": {
      "text/plain": [
       "1"
      ]
     },
     "execution_count": 1,
     "metadata": {},
     "output_type": "execute_result"
    }
   ],
   "source": [
    "## Inicio\n",
    "import time\n",
    "\n",
    "def calcular(par1, par2, oper):\n",
    "    if (oper==\"+\"):\n",
    "        resultado = float(operando1) + float(operando2)\n",
    "    elif (operador==\"-\"):\n",
    "        resultado = float(operando1) - float(operando2)\n",
    "    elif (operador==\"*\"):\n",
    "        resultado = float(operando1) * float(operando2)\n",
    "    elif (operador==\"/\"):\n",
    "        resultado = float(operando1) / float(operando2)\n",
    "    return resultado\n",
    "## Fin\n",
    "\n",
    "hist_operaciones = []\n",
    "operadores = ('+', '-', '*', '/')\n",
    "operando1 = 0\n",
    "operando2 = 0\n",
    "operador = \"\"\n",
    "numCalculo=0\n",
    "while (True):\n",
    "    salir = False\n",
    "    \n",
    "    print(\" >>> CALCULADORA <<<\")\n",
    "    \n",
    "    while (True):\n",
    "        operando1 = input(\"Operando 1. << Pulse 'x' para salir >>  \")        \n",
    "        if (operando1.lower()=='x'):\n",
    "            salir = True\n",
    "            break\n",
    "        elif (isinstance(float(operando1), float)):            \n",
    "            break\n",
    "    \n",
    "    if (salir):\n",
    "        print(\"Estas han sido tus operaciones: {0}\".format(hist_operaciones))\n",
    "        break\n",
    "        \n",
    "    while (True):\n",
    "        operando2 = input(\"Operando 2. << Pulse 'x' para salir >>  \")        \n",
    "        if (operando2.lower()=='x'):\n",
    "            salir = True\n",
    "            break            \n",
    "        elif (isinstance(float(operando2), float)):            \n",
    "            break\n",
    "\n",
    "    if (salir):\n",
    "        print(\"Estas han sido tus operaciones: {0}\".format(hist_operaciones))\n",
    "        break\n",
    "        \n",
    "    while (True):\n",
    "        operador = input(\"Operador (+, -, *,/). << Pulse 'x' para salir >> \")\n",
    "        if (operador in operadores):\n",
    "            print(\"Vamos a calcular ({0}) {1} ({2})\".format(operando1, operador, operando2))\n",
    "            resultado = calcular(operando1, operando2, operador)                \n",
    "            # Cuenta regresiva\n",
    "            for i in range(3, 0, -1):\n",
    "                print(f\"Calculándo... {i}\", end='\\r')  # '\\r' retorna al inicio de la línea\n",
    "                time.sleep(1)  # Pausa de 1 segundoL\n",
    "            print(\"El resultado es {0}\".format(resultado))  # Para que el mensaje final aparezca en una nueva línea                        \n",
    "            numCalculo+=1\n",
    "            operacion=[numCalculo, operando1, operando2, operador, resultado]\n",
    "            hist_operaciones.append(operacion)\n",
    "            break\n",
    "        elif (operador.lower() == 'x'):\n",
    "            salir = True\n",
    "            break\n",
    "    if (salir):\n",
    "        if (len(hist_operaciones)==0):\n",
    "            print(\"Te espero en otra ocasión\")\n",
    "        else:\n",
    "            print(\"Estas han sido tus operaciones: {0}\".format(hist_operaciones))\n",
    "        break\n",
    "1"
   ]
  },
  {
   "cell_type": "code",
   "execution_count": null,
   "metadata": {},
   "outputs": [],
   "source": []
  }
 ],
 "metadata": {
  "kernelspec": {
   "display_name": "Python 3",
   "language": "python",
   "name": "python3"
  },
  "language_info": {
   "codemirror_mode": {
    "name": "ipython",
    "version": 3
   },
   "file_extension": ".py",
   "mimetype": "text/x-python",
   "name": "python",
   "nbconvert_exporter": "python",
   "pygments_lexer": "ipython3",
   "version": "3.12.3"
  }
 },
 "nbformat": 4,
 "nbformat_minor": 2
}
